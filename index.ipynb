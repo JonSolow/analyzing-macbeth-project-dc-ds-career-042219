{
 "cells": [
  {
   "cell_type": "markdown",
   "metadata": {},
   "source": [
    "# Project: Analyzing Macbeth\n",
    "\n",
    "## Introduction\n",
    "For our first day and first data science project, we're going to do some rudimentry analysis of Shakespeare's classic play: Macbeth! You will get practice working with lists, condtionals and dictionaries, visualizing data, and thinking analytically about data.\n",
    "\n",
    "## Objectives\n",
    "You will be able to:\n",
    "* Show mastery of the content covered in this section\n",
    "\n",
    "## Getting the Data\n",
    "Here we start by importing a python package and using it to pull the transcript of Macbeth from the project Gutenberg website. We also preview a few details about what is now stored in the variable macbeth; it's a string with 119,846 characters, the first 500 of which are printed below. "
   ]
  },
  {
   "cell_type": "code",
   "execution_count": 2,
   "metadata": {},
   "outputs": [
    {
     "name": "stdout",
     "output_type": "stream",
     "text": [
      "<class 'str'>\n",
      "119846\n",
      "﻿***The Project Gutenberg's Etext of Shakespeare's First Folio***\r\n",
      "********************The Tragedie of Macbeth*********************\r\n",
      "\r\n",
      "This is our 3rd edition of most of these plays.  See the index.\r\n",
      "\r\n",
      "\r\n",
      "Copyright laws are changing all over the world, be sure to check\r\n",
      "the copyright laws for your country before posting these files!!\r\n",
      "\r\n",
      "Please take a look at the important information in this header.\r\n",
      "We encourage you to keep this file on your own disk, keeping an\r\n",
      "electronic path open for the nex\n"
     ]
    }
   ],
   "source": [
    "import requests\n",
    "macbeth = requests.get('http://www.gutenberg.org/cache/epub/2264/pg2264.txt').text\n",
    "\n",
    "print(type(macbeth))\n",
    "print(len(macbeth))\n",
    "print(macbeth[:500])"
   ]
  },
  {
   "cell_type": "markdown",
   "metadata": {},
   "source": [
    "## Your Task\n",
    "\n",
    "Your task is to create a bar graph of the 25 most common words in Shakespeare's Macbeth.  \n",
    "\n",
    "\n",
    "A common python programming pattern to counting objects, produce histograms, or update statistics is to make calls to a dictionary as you iterate through a list. For example, given a list of words, you can create a dictionary to store counts and then iterate through the list of words, checking how many times each word has appeared using your dictionary, and updating the dictionary count now that you've seen that word again. The `dictionary.get()` method is very useful in doing this. Read the docstring for the dictionary.get() method and use it along with the pseudocode above to create a bar graph of the 25 most common words from the transcript of Macbeth which has been loaded into a variable 'Macbeth'. Be sure to include a title and appropriate labels for your graph."
   ]
  },
  {
   "cell_type": "code",
   "execution_count": 3,
   "metadata": {
    "scrolled": false
   },
   "outputs": [
    {
     "data": {
      "image/png": "[encoded data removed]",
      "text/plain": [
       "<Figure size 1152x432 with 1 Axes>"
      ]
     },
     "metadata": {
      "needs_background": "light"
     },
     "output_type": "display_data"
    }
   ],
   "source": [
    "# Your code here\n",
    "\n",
    "# Pseudo-code Outline\n",
    "# Split the transcript into words\n",
    "# Create a dictionary\n",
    "# Iterate through the text of Macbeth\n",
    "# Update word counts\n",
    "# Create Bar Graph\n",
    "# Include descriptive titles and labels\n",
    "\n",
    "words_in_macbeth = macbeth.split(\" \")\n",
    "\n",
    "word_count_dict = {}\n",
    "\n",
    "for word in words_in_macbeth:\n",
    "    if word.lower() in word_count_dict.keys():\n",
    "        word_count_dict.update({word.lower() : word_count_dict[word.lower()]+1})\n",
    "    else:\n",
    "        word_count_dict.update({word.lower() : 1})\n",
    "\n",
    "#sort both values and keys into lists based on most common words\n",
    "sortedValues, sortedKeys = zip(*sorted(zip(word_count_dict.values(), word_count_dict.keys()), reverse=True))\n",
    "\n",
    "#choose number of words to show in graph, also changes title\n",
    "subsetLen = 25\n",
    "\n",
    "#start with index 1, due to the first word being a space \n",
    "#(might be a different ASCII character than the space used to split text)\n",
    "sortedValues = sortedValues[1:subsetLen]\n",
    "sortedKeys = sortedKeys[1:subsetLen]\n",
    "\n",
    "\n",
    "import matplotlib.pyplot as plt\n",
    "%matplotlib inline\n",
    "\n",
    "y = sortedValues\n",
    "x = sortedKeys\n",
    "labels = [str(subsetLen) + ' Most Common Words in Macbeth','Word','Count']\n",
    "\n",
    "# Set a figure size\n",
    "plt.figure(figsize=(16,6))\n",
    "# Plot vertical bars of fixed width by passing x and y values to .bar() function \n",
    "plt.bar(x, y)\n",
    "plt.xticks(rotation=70)\n",
    "# Give a title to the bar graph\n",
    "plt.title(labels[0])\n",
    "# Output the final plot\n",
    "\n",
    "plt.xlabel(labels[1])\n",
    "plt.ylabel(labels[2])\n",
    "\n",
    "\n",
    "plt.show()\n",
    "\n"
   ]
  },
  {
   "cell_type": "markdown",
   "metadata": {},
   "source": [
    "## Level Up (Optional)\n",
    "This project should take you about an hour and a half to complete. If you're done much more quickly than that and are not behind in the course, feel free to deepen your knowledge by completing any or all of the following tasks until you run out of time:\n",
    "* Create a list of top characters by mentions of their names \n",
    "* Split the text by which character is talking\n",
    "* Create subgraphs of the most common words by character\n",
    "* Reduce the string to the text of the play itself. (Remove any initial notes, forward, introduction, appendix, etc.)\n",
    "* Come up with some other fun analyses of the text!\n",
    "\n",
    "## Summary\n",
    "Congratulations! You've got some extra practice combining various data types into useful programming patterns and done an initial analysis of a classic text!"
   ]
  }
 ],
 "metadata": {
  "kernelspec": {
   "display_name": "Python 3",
   "language": "python",
   "name": "python3"
  },
  "language_info": {
   "codemirror_mode": {
    "name": "ipython",
    "version": 3
   },
   "file_extension": ".py",
   "mimetype": "text/x-python",
   "name": "python",
   "nbconvert_exporter": "python",
   "pygments_lexer": "ipython3",
   "version": "3.6.6"
  }
 },
 "nbformat": 4,
 "nbformat_minor": 2
}
